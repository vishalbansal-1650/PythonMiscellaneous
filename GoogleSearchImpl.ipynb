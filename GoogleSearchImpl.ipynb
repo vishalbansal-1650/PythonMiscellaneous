{
 "cells": [
  {
   "cell_type": "markdown",
   "metadata": {},
   "source": [
    "<b>requirement:</b>\n",
    "\n",
    "conda install -c conda-forge googlesearch"
   ]
  },
  {
   "cell_type": "code",
   "execution_count": 11,
   "metadata": {},
   "outputs": [],
   "source": [
    "from googlesearch import search"
   ]
  },
  {
   "cell_type": "code",
   "execution_count": 12,
   "metadata": {},
   "outputs": [
    {
     "name": "stdout",
     "output_type": "stream",
     "text": [
      "Enter your queryBest course for NLP\n"
     ]
    }
   ],
   "source": [
    "query=input(\"Enter your query\")"
   ]
  },
  {
   "cell_type": "code",
   "execution_count": 13,
   "metadata": {},
   "outputs": [
    {
     "name": "stdout",
     "output_type": "stream",
     "text": [
      "Best course for NLP\n"
     ]
    }
   ],
   "source": [
    "print(query)"
   ]
  },
  {
   "cell_type": "code",
   "execution_count": 14,
   "metadata": {},
   "outputs": [
    {
     "name": "stdout",
     "output_type": "stream",
     "text": [
      "https://www.analyticsinsight.net/top-10-natural-language-processing-online-courses/?sa=X&ved=2ahUKEwjrnI3v1bvrAhVZlEsFHezIDp0Q9QF6BAgKEAI\n",
      "https://www.analyticsinsight.net/top-10-natural-language-processing-online-courses/\n",
      "https://digitaldefynd.com/best-natural-language-processing/\n",
      "https://www.kdnuggets.com/2019/10/10-free-top-notch-courses-natural-language-processing.html\n",
      "https://www.coursera.org/courses?query=nlp\n",
      "https://www.quora.com/What-is-the-best-natural-language-processing-MOOC\n",
      "https://www.quora.com/Which-is-the-best-course-on-NLP-in-Coursera\n",
      "https://www.quora.com/What-is-the-best-online-course-for-natural-Language-processing\n",
      "https://www.quora.com/What-is-the-best-NLP-course\n",
      "https://www.quora.com/What-is-the-best-online-course-for-Deep-Learning-in-Natural-Language-Processing\n",
      "https://www.udemy.com/topic/natural-language-processing/\n",
      "https://www.houseofbots.com/news-detail/11779-1-which-are-the-best-online-courses-to-learn-natural-language-processing\n",
      "https://favouriteblog.com/natural-language-processing-nlp-online-course/\n",
      "https://www.java67.com/2020/07/top-5-courses-to-learn-natural-language-processing-NLP.html\n",
      "https://blog.coursesity.com/best-natural-language-processing-courses/\n",
      "https://www.classcentral.com/subject/nlp\n",
      "https://onlinecoursetutorials.com/courses/best-natural-language-processing-courses/\n",
      "https://www.edx.org/learn/natural-language-processing\n",
      "https://medium.com/datadriveninvestor/the-best-course-for-nlp-with-deep-learning-is-free-731aa2a6bd79\n",
      "https://courses.analyticsvidhya.com/courses/natural-language-processing-nlp\n"
     ]
    }
   ],
   "source": [
    "for i in search(query,tld='com',lang='en',start=0,stop=20,pause=2,safe='on'):\n",
    "    print(i)"
   ]
  },
  {
   "cell_type": "code",
   "execution_count": null,
   "metadata": {},
   "outputs": [],
   "source": []
  }
 ],
 "metadata": {
  "kernelspec": {
   "display_name": "Python [conda env:py37]",
   "language": "python",
   "name": "conda-env-py37-py"
  },
  "language_info": {
   "codemirror_mode": {
    "name": "ipython",
    "version": 3
   },
   "file_extension": ".py",
   "mimetype": "text/x-python",
   "name": "python",
   "nbconvert_exporter": "python",
   "pygments_lexer": "ipython3",
   "version": "3.7.4"
  }
 },
 "nbformat": 4,
 "nbformat_minor": 2
}
