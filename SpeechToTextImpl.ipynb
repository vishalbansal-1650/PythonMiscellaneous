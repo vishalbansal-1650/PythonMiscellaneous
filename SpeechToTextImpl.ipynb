{
 "cells": [
  {
   "cell_type": "code",
   "execution_count": 1,
   "metadata": {
    "scrolled": true
   },
   "outputs": [],
   "source": [
    "import speech_recognition as sr"
   ]
  },
  {
   "cell_type": "code",
   "execution_count": 2,
   "metadata": {},
   "outputs": [],
   "source": [
    "rec = sr.Recognizer()"
   ]
  },
  {
   "cell_type": "markdown",
   "metadata": {},
   "source": [
    "## 1. Audio Input using microphone"
   ]
  },
  {
   "cell_type": "code",
   "execution_count": 5,
   "metadata": {},
   "outputs": [
    {
     "name": "stdout",
     "output_type": "stream",
     "text": [
      "Say Something...\n",
      "!!!Ready to convert!!!\n",
      "Converted Text is:  hey how are you\n"
     ]
    }
   ],
   "source": [
    "with sr.Microphone() as src:\n",
    "    print(\"Say Something...\")\n",
    "    audio_txt = rec.listen(src)\n",
    "    print(\"!!!Ready to convert!!!\")\n",
    "    \n",
    "    try:\n",
    "        txt_op = rec.recognize_google(audio_txt)\n",
    "        print(\"Converted Text is: \",txt_op)\n",
    "    except:\n",
    "        print(\"Couldn't able to process input\")"
   ]
  },
  {
   "cell_type": "markdown",
   "metadata": {},
   "source": [
    "## Converting into differet indian languages:"
   ]
  },
  {
   "cell_type": "code",
   "execution_count": 6,
   "metadata": {
    "scrolled": true
   },
   "outputs": [
    {
     "name": "stdout",
     "output_type": "stream",
     "text": [
      "Say Something...\n",
      "!!!Ready to convert!!!\n",
      "Converted Text is:  सत्यमेव जयते\n"
     ]
    }
   ],
   "source": [
    "with sr.Microphone() as src:\n",
    "    print(\"Say Something...\")\n",
    "    audio_txt = rec.listen(src)\n",
    "    print(\"!!!Ready to convert!!!\")\n",
    "    \n",
    "    try:\n",
    "        txt_op = rec.recognize_google(audio_txt,language='hi-in') ## Converted into hindi\n",
    "        print(\"Converted Text is: \",txt_op)\n",
    "    except:\n",
    "        print(\"Couldn't able to process input\")"
   ]
  },
  {
   "cell_type": "code",
   "execution_count": 7,
   "metadata": {},
   "outputs": [
    {
     "name": "stdout",
     "output_type": "stream",
     "text": [
      "Say Something...\n",
      "!!!Ready to convert!!!\n",
      "Converted Text is:  வணக்கம்\n"
     ]
    }
   ],
   "source": [
    "with sr.Microphone() as src:\n",
    "    print(\"Say Something...\")\n",
    "    audio_txt = rec.listen(src)\n",
    "    print(\"!!!Ready to convert!!!\")\n",
    "    \n",
    "    try:\n",
    "        txt_op = rec.recognize_google(audio_txt,language='ta-in') ## Converted into tamil\n",
    "        print(\"Converted Text is: \",txt_op)\n",
    "    except:\n",
    "        print(\"Couldn't able to process input\")"
   ]
  },
  {
   "cell_type": "code",
   "execution_count": 8,
   "metadata": {},
   "outputs": [
    {
     "name": "stdout",
     "output_type": "stream",
     "text": [
      "Say Something...\n",
      "!!!Ready to convert!!!\n",
      "Converted Text is:  ਪਾਜੀ ਇੱਦਾ ਤੁਸੀਂ\n"
     ]
    }
   ],
   "source": [
    "with sr.Microphone() as src:\n",
    "    print(\"Say Something...\")\n",
    "    audio_txt = rec.listen(src)\n",
    "    print(\"!!!Ready to convert!!!\")\n",
    "    \n",
    "    try:\n",
    "        txt_op = rec.recognize_google(audio_txt,language='pa-in') ## Converted into punjabi\n",
    "        print(\"Converted Text is: \",txt_op)\n",
    "    except:\n",
    "        print(\"Couldn't able to process input\")"
   ]
  },
  {
   "cell_type": "markdown",
   "metadata": {},
   "source": [
    "## 2. Input using audio files:"
   ]
  },
  {
   "cell_type": "code",
   "execution_count": 12,
   "metadata": {},
   "outputs": [
    {
     "name": "stdout",
     "output_type": "stream",
     "text": [
      "!!!Ready to convert!!!\n",
      "Converted Text is:  we must not allowed\n"
     ]
    }
   ],
   "source": [
    "fname = \"audio_ip.wav\"\n",
    "\n",
    "with sr.AudioFile(fname) as src:\n",
    "    audio_data = rec.record(src)\n",
    "    print(\"!!!Ready to convert!!!\")\n",
    "    \n",
    "    try:\n",
    "        txt_op = rec.recognize_google(audio_data)\n",
    "        print(\"Converted Text is: \",txt_op)\n",
    "    except:\n",
    "        print(\"Couldn't able to process audio input\")"
   ]
  },
  {
   "cell_type": "code",
   "execution_count": null,
   "metadata": {},
   "outputs": [],
   "source": []
  }
 ],
 "metadata": {
  "kernelspec": {
   "display_name": "Python [conda env:py37]",
   "language": "python",
   "name": "conda-env-py37-py"
  },
  "language_info": {
   "codemirror_mode": {
    "name": "ipython",
    "version": 3
   },
   "file_extension": ".py",
   "mimetype": "text/x-python",
   "name": "python",
   "nbconvert_exporter": "python",
   "pygments_lexer": "ipython3",
   "version": "3.7.4"
  }
 },
 "nbformat": 4,
 "nbformat_minor": 2
}
