{
 "cells": [
  {
   "cell_type": "code",
   "execution_count": 32,
   "metadata": {
    "scrolled": true
   },
   "outputs": [],
   "source": [
    "import speech_recognition as sr"
   ]
  },
  {
   "cell_type": "code",
   "execution_count": 33,
   "metadata": {},
   "outputs": [],
   "source": [
    "rec = sr.Recognizer()"
   ]
  },
  {
   "cell_type": "markdown",
   "metadata": {},
   "source": [
    "## 1. Audio Input using microphone"
   ]
  },
  {
   "cell_type": "code",
   "execution_count": 34,
   "metadata": {},
   "outputs": [
    {
     "name": "stdout",
     "output_type": "stream",
     "text": [
      "Say Something...\n",
      "!!!Ready to convert!!!\n",
      "Converted Text is:  listen to me\n"
     ]
    }
   ],
   "source": [
    "with sr.Microphone() as src:\n",
    "    print(\"Say Something...\")\n",
    "    audio_txt = rec.listen(src)\n",
    "    print(\"!!!Ready to convert!!!\")\n",
    "    \n",
    "    try:\n",
    "        txt_op = r.recognize_google(audio_txt)\n",
    "        print(\"Converted Text is: \",txt_op)\n",
    "    except:\n",
    "        print(\"Couldn't able to process input\")"
   ]
  },
  {
   "cell_type": "markdown",
   "metadata": {},
   "source": [
    "## Converting into differet indian languages:"
   ]
  },
  {
   "cell_type": "code",
   "execution_count": 38,
   "metadata": {
    "scrolled": true
   },
   "outputs": [
    {
     "name": "stdout",
     "output_type": "stream",
     "text": [
      "Say Something...\n",
      "!!!Ready to convert!!!\n",
      "Converted Text is:  सत्यमेव जयते\n"
     ]
    }
   ],
   "source": [
    "with sr.Microphone() as src:\n",
    "    print(\"Say Something...\")\n",
    "    audio_txt = rec.listen(src)\n",
    "    print(\"!!!Ready to convert!!!\")\n",
    "    \n",
    "    try:\n",
    "        txt_op = r.recognize_google(audio_txt,language='hi-in') ## Converted into hindi\n",
    "        print(\"Converted Text is: \",txt_op)\n",
    "    except:\n",
    "        print(\"Couldn't able to process input\")"
   ]
  },
  {
   "cell_type": "code",
   "execution_count": 40,
   "metadata": {},
   "outputs": [
    {
     "name": "stdout",
     "output_type": "stream",
     "text": [
      "Say Something...\n",
      "!!!Ready to convert!!!\n",
      "Converted Text is:  வணக்கம்\n"
     ]
    }
   ],
   "source": [
    "with sr.Microphone() as src:\n",
    "    print(\"Say Something...\")\n",
    "    audio_txt = rec.listen(src)\n",
    "    print(\"!!!Ready to convert!!!\")\n",
    "    \n",
    "    try:\n",
    "        txt_op = r.recognize_google(audio_txt,language='ta-in') ## Converted into tamil\n",
    "        print(\"Converted Text is: \",txt_op)\n",
    "    except:\n",
    "        print(\"Couldn't able to process input\")"
   ]
  },
  {
   "cell_type": "code",
   "execution_count": 41,
   "metadata": {},
   "outputs": [
    {
     "name": "stdout",
     "output_type": "stream",
     "text": [
      "Say Something...\n",
      "!!!Ready to convert!!!\n",
      "Converted Text is:  ਆਜ਼ਿਜ਼ ਕੀਤਾ ਸੀ\n"
     ]
    }
   ],
   "source": [
    "with sr.Microphone() as src:\n",
    "    print(\"Say Something...\")\n",
    "    audio_txt = rec.listen(src)\n",
    "    print(\"!!!Ready to convert!!!\")\n",
    "    \n",
    "    try:\n",
    "        txt_op = r.recognize_google(audio_txt,language='pa-in') ## Converted into punjabi\n",
    "        print(\"Converted Text is: \",txt_op)\n",
    "    except:\n",
    "        print(\"Couldn't able to process input\")"
   ]
  },
  {
   "cell_type": "code",
   "execution_count": 45,
   "metadata": {},
   "outputs": [
    {
     "data": {
      "text/plain": [
       "'D:\\\\STUDY\\\\DSP\\\\Practise\\\\Miscellaneous-Python'"
      ]
     },
     "execution_count": 45,
     "metadata": {},
     "output_type": "execute_result"
    }
   ],
   "source": [
    "%pwd"
   ]
  },
  {
   "cell_type": "code",
   "execution_count": 47,
   "metadata": {},
   "outputs": [
    {
     "name": "stdout",
     "output_type": "stream",
     "text": [
      " Volume in drive D is Data\n",
      " Volume Serial Number is 8E17-3112\n",
      "\n",
      " Directory of D:\\STUDY\\DSP\\Practise\\Miscellaneous-Python\n",
      "\n",
      "11-07-2020  05:44    <DIR>          .\n",
      "11-07-2020  05:44    <DIR>          ..\n",
      "11-07-2020  05:07    <DIR>          .ipynb_checkpoints\n",
      "11-07-2020  04:45            30,022 audio.wav\n",
      "11-07-2020  05:44            21,850 SpeechToTextImpl.ipynb\n",
      "11-07-2020  05:43            95,084 taken_in.wav\n",
      "11-07-2020  05:44            28,794 watch_out.wav\n",
      "               4 File(s)        175,750 bytes\n",
      "               3 Dir(s)  537,321,553,920 bytes free\n"
     ]
    }
   ],
   "source": [
    "%ls"
   ]
  },
  {
   "cell_type": "markdown",
   "metadata": {},
   "source": [
    "## 2. Input using audio files:"
   ]
  },
  {
   "cell_type": "code",
   "execution_count": 53,
   "metadata": {},
   "outputs": [
    {
     "name": "stdout",
     "output_type": "stream",
     "text": [
      "!!!Ready to convert!!!\n",
      "Converted Text is:  music\n"
     ]
    }
   ],
   "source": [
    "fname = \"very_amusing.wav\"\n",
    "\n",
    "with sr.AudioFile(fname) as src:\n",
    "    audio_data = rec.record(src)\n",
    "    print(\"!!!Ready to convert!!!\")\n",
    "    \n",
    "    try:\n",
    "        txt_op = r.recognize_google(audio_data)\n",
    "        print(\"Converted Text is: \",txt_op)\n",
    "    except:\n",
    "        print(\"Couldn't able to process audio input\")"
   ]
  },
  {
   "cell_type": "code",
   "execution_count": null,
   "metadata": {},
   "outputs": [],
   "source": []
  }
 ],
 "metadata": {
  "kernelspec": {
   "display_name": "Python [conda env:py37]",
   "language": "python",
   "name": "conda-env-py37-py"
  },
  "language_info": {
   "codemirror_mode": {
    "name": "ipython",
    "version": 3
   },
   "file_extension": ".py",
   "mimetype": "text/x-python",
   "name": "python",
   "nbconvert_exporter": "python",
   "pygments_lexer": "ipython3",
   "version": "3.7.4"
  }
 },
 "nbformat": 4,
 "nbformat_minor": 2
}
